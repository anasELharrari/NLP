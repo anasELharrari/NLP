{
 "cells": [
  {
   "cell_type": "markdown",
   "id": "29009f50-dc81-44ac-8ea5-71a624cdf80d",
   "metadata": {},
   "source": [
    "# Text Mining Approach Based on TF-IDF and Support Vector Machine "
   ]
  },
  {
   "cell_type": "markdown",
   "id": "dec5982b-b7db-493e-badf-f0981717c95a",
   "metadata": {},
   "source": [
    "## Data Processing "
   ]
  },
  {
   "cell_type": "code",
   "execution_count": 1,
   "id": "28628a71-386d-4133-b0c1-d275bc23a643",
   "metadata": {},
   "outputs": [
    {
     "name": "stderr",
     "output_type": "stream",
     "text": [
      "C:\\Users\\HP\\anaconda3\\lib\\site-packages\\scipy\\__init__.py:155: UserWarning: A NumPy version >=1.18.5 and <1.25.0 is required for this version of SciPy (detected version 1.25.0\n",
      "  warnings.warn(f\"A NumPy version >={np_minversion} and <{np_maxversion}\"\n",
      "[nltk_data] Downloading package stopwords to\n",
      "[nltk_data]     C:\\Users\\HP\\AppData\\Roaming\\nltk_data...\n",
      "[nltk_data]   Package stopwords is already up-to-date!\n",
      "[nltk_data] Downloading package punkt to\n",
      "[nltk_data]     C:\\Users\\HP\\AppData\\Roaming\\nltk_data...\n",
      "[nltk_data]   Package punkt is already up-to-date!\n"
     ]
    }
   ],
   "source": [
    "import nltk\n",
    "from nltk.corpus import stopwords\n",
    "from nltk.tokenize import word_tokenize\n",
    "nltk.download('stopwords')\n",
    "nltk.download('punkt')\n",
    "\n",
    "def processed_text(data):\n",
    "    tokens = word_tokenize(data)\n",
    "    for token in tokens:\n",
    "        token=token.lower()\n",
    "    stop_words = set(stopwords.words(\"english\"))\n",
    "    tokens = [token for token in tokens if token not in stop_words]\n",
    "    return tokens\n",
    "    "
   ]
  },
  {
   "cell_type": "markdown",
   "id": "90db0dde-b5ef-447a-86fb-27b44f47b04a",
   "metadata": {},
   "source": [
    "## Feature Extraction based on TF-IDF "
   ]
  },
  {
   "cell_type": "code",
   "execution_count": 9,
   "id": "216eb041-b71c-4064-bdfc-16e62d8ca6c1",
   "metadata": {},
   "outputs": [],
   "source": [
    "from sklearn.feature_extraction.text import TfidfVectorizer\n",
    "def calculate_tf_idf(tokens):\n",
    "    frequency=[]\n",
    "    count=0\n",
    "    for i in range(0,len(tokens)):\n",
    "        for j in range(0,len(tokens)):\n",
    "            if tokens[i]==tokens[j]:\n",
    "                count=count+1\n",
    "        frequency.append(count)\n",
    "    count=0 \n",
    "    tf=[]\n",
    "    for i in range(0,len(tokens)):\n",
    "        tf.append(frequency[i]/len(tokens))\n",
    "    vectorizer = TfidfVectorizer()\n",
    "    tfidf_matrix = vectorizer.fit_transform(tokens)\n",
    "    return tfidf_matrix"
   ]
  },
  {
   "cell_type": "markdown",
   "id": "8419889b-f3a1-417b-a54b-6926a8c1dd43",
   "metadata": {},
   "source": [
    "## Build the SVM Model "
   ]
  },
  {
   "cell_type": "code",
   "execution_count": null,
   "id": "ab6b7ea9-1a07-49f7-83ec-5d7afa653d72",
   "metadata": {},
   "outputs": [],
   "source": [
    "import numpy as np\n",
    "import pandas as pd\n",
    "from sklearn import svm\n",
    "from sklearn.svm import NuSVC\n",
    "from sklearn.model_selection import train_test_split\n",
    "from sklearn.preprocessing import LabelEncoder\n",
    "from sklearn.metrics import accuracy_score\n",
    "data=pd.read_csv('BBC News.csv')\n",
    "data.head()\n",
    "text = data['Category'].to_string(index=False)\n",
    "processed_data=processed_text(text)\n",
    "new_data=calculate_tf_idf(processed_data)\n",
    "X = data.drop('ArticleId', axis=1)\n",
    "label_encoder = LabelEncoder()\n",
    "X = label_encoder.fit_transform(X)\n",
    "y = data['ArticleId']\n",
    "X_train, X_test, y_train, y_test = train_test_split(X, y, test_size=0.2, random_state=42)\n",
    "clf = NuSVC(kernel='rbf', nu=0.5)\n",
    "clf.fit(X_train, y_train)\n",
    "y_pred = clf.predict(X_test)\n",
    "accuracy = accuracy_score(y_test, y_pred)\n",
    "print(\"Accuracy:\", accuracy)\n",
    "\n"
   ]
  },
  {
   "cell_type": "code",
   "execution_count": null,
   "id": "9eb285a5-b95d-430b-8f0c-6ea4a3c46df4",
   "metadata": {},
   "outputs": [],
   "source": [
    "def evaluation():\n",
    "    recall = recall_score(y_test, y_pred)\n",
    "    print(\"Recall:\", recall)\n",
    "    precision = precision_score(y_test, y_pred)\n",
    "    print(\"Precision:\", precision)\n",
    "    f_mesure = f1_score(y_test, y_pred)\n",
    "    print(\"F1-Mesure score:\", f1)"
   ]
  },
  {
   "cell_type": "code",
   "execution_count": null,
   "id": "ed1a236f-aead-4126-a282-30f7314b586b",
   "metadata": {},
   "outputs": [],
   "source": [
    "evaluation()"
   ]
  },
  {
   "cell_type": "code",
   "execution_count": null,
   "id": "d08cc05a-5cf4-4424-aff7-95317dee9799",
   "metadata": {},
   "outputs": [],
   "source": []
  }
 ],
 "metadata": {
  "kernelspec": {
   "display_name": "Python 3 (ipykernel)",
   "language": "python",
   "name": "python3"
  },
  "language_info": {
   "codemirror_mode": {
    "name": "ipython",
    "version": 3
   },
   "file_extension": ".py",
   "mimetype": "text/x-python",
   "name": "python",
   "nbconvert_exporter": "python",
   "pygments_lexer": "ipython3",
   "version": "3.9.13"
  }
 },
 "nbformat": 4,
 "nbformat_minor": 5
}
